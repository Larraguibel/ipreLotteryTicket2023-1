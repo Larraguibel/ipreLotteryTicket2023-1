{
  "cells": [
    {
      "cell_type": "code",
      "execution_count": null,
      "metadata": {
        "colab": {
          "base_uri": "https://localhost:8080/"
        },
        "id": "fwa0Uq8EKsws",
        "outputId": "d25c0394-8140-4c52-eeae-2fdf0e19b0a2"
      },
      "outputs": [
        {
          "output_type": "stream",
          "name": "stdout",
          "text": [
            "2.12.0\n"
          ]
        }
      ],
      "source": [
        "import tensorflow as tf\n",
        " \n",
        "# Display the version\n",
        "print(tf.__version__)    \n",
        "\n",
        "# other imports\n",
        "import numpy as np\n",
        "import matplotlib.pyplot as plt\n",
        "from tensorflow.keras.layers import Input, Conv2D, Dense, Flatten, Dropout, Add, ReLU\n",
        "from tensorflow.keras.layers import GlobalMaxPooling2D, MaxPooling2D, AveragePooling2D\n",
        "from tensorflow.keras.layers import BatchNormalization, Activation\n",
        "from tensorflow.keras.models import Model"
      ]
    },
    {
      "cell_type": "code",
      "execution_count": null,
      "metadata": {
        "colab": {
          "base_uri": "https://localhost:8080/"
        },
        "id": "vVy1qZmXKswt",
        "outputId": "297c05e8-bb56-4c2f-f3f6-037fa7fa0055"
      },
      "outputs": [
        {
          "output_type": "stream",
          "name": "stdout",
          "text": [
            "Downloading data from https://www.cs.toronto.edu/~kriz/cifar-10-python.tar.gz\n",
            "170498071/170498071 [==============================] - 6s 0us/step\n",
            "(50000, 32, 32, 3) (50000, 1) (10000, 32, 32, 3) (10000, 1)\n"
          ]
        }
      ],
      "source": [
        "# Load in the data\n",
        "cifar10 = tf.keras.datasets.cifar10\n",
        " \n",
        "# Distribute it to train and test set\n",
        "(x_train, y_train), (x_test, y_test) = cifar10.load_data()\n",
        "print(x_train.shape, y_train.shape, x_test.shape, y_test.shape)"
      ]
    },
    {
      "cell_type": "code",
      "source": [
        "print(\"Num GPUs Available: \", len(tf.config.list_physical_devices('GPU')))\n"
      ],
      "metadata": {
        "colab": {
          "base_uri": "https://localhost:8080/"
        },
        "id": "VDdUbYU5K_8A",
        "outputId": "f00e4cb8-6483-4179-df73-0afcbbbd82c7"
      },
      "execution_count": null,
      "outputs": [
        {
          "output_type": "stream",
          "name": "stdout",
          "text": [
            "Num GPUs Available:  1\n"
          ]
        }
      ]
    },
    {
      "cell_type": "code",
      "execution_count": null,
      "metadata": {
        "id": "3GFjVpwPKswt"
      },
      "outputs": [],
      "source": [
        "# Reduce pixel values\n",
        "x_train, x_test = x_train / 255.0, x_test / 255.0\n",
        " \n",
        "# flatten the label values\n",
        "y_train, y_test = y_train.flatten(), y_test.flatten()"
      ]
    },
    {
      "cell_type": "code",
      "execution_count": null,
      "metadata": {
        "colab": {
          "base_uri": "https://localhost:8080/",
          "height": 52
        },
        "id": "uyaftPAzKswu",
        "outputId": "09ce8d1e-b2be-4d87-b294-b0df33ef6038"
      },
      "outputs": [
        {
          "output_type": "execute_result",
          "data": {
            "text/plain": [
              "'\\nOpción 1:\\ntf.keras.applications.ResNet50(\\n    include_top=True,\\n    weights=\"imagenet\",\\n    input_tensor=None,\\n    input_shape=None,\\n    pooling=avg,\\n    classes=10,\\n    classifier_activation=\\'softmax\\'\\n)\\n\\nhttps://keras.io/api/applications/resnet/\\n'"
            ],
            "application/vnd.google.colaboratory.intrinsic+json": {
              "type": "string"
            }
          },
          "metadata": {},
          "execution_count": 5
        }
      ],
      "source": [
        "'''\n",
        "Opción 1:\n",
        "tf.keras.applications.ResNet50(\n",
        "    include_top=True,\n",
        "    weights=\"imagenet\",\n",
        "    input_tensor=None,\n",
        "    input_shape=None,\n",
        "    pooling=avg,\n",
        "    classes=10,\n",
        "    classifier_activation='softmax'\n",
        ")\n",
        "\n",
        "https://keras.io/api/applications/resnet/\n",
        "'''"
      ]
    },
    {
      "cell_type": "code",
      "execution_count": null,
      "metadata": {
        "id": "9wKnxt-CKswu"
      },
      "outputs": [],
      "source": [
        "def identity_block(inp, filters: int):\n",
        "    # Corresponde a los bloque normales, donde solo hay stripe=(1,1)\n",
        "    x = Conv2D(filters=filters, kernel_size=(3,3), strides=(1,1), padding=\"same\",kernel_initializer='he_normal')(inp)\n",
        "    x = BatchNormalization()(x)\n",
        "    x = Activation('relu')(x)\n",
        "\n",
        "    x = Conv2D(filters=filters, kernel_size=(3,3), strides=(1,1), padding=\"same\",kernel_initializer='he_normal')(inp)\n",
        "    x = BatchNormalization()(x)\n",
        "    x = Add()([inp,x])\n",
        "    x = Activation('relu')(x)\n",
        "    return x\n",
        "\n",
        "def conv_block(inp, filters: int):\n",
        "    # Corresponde al primer bloque de cada grupo, el cual tiene stripe=(2,2)\n",
        "    x = Conv2D(filters=filters, kernel_size=(3,3), strides=(2,2), padding=\"same\",kernel_initializer='he_normal')(inp)\n",
        "    x = BatchNormalization()(x)\n",
        "    shortcut = Activation('relu')(x)\n",
        "\n",
        "    x = Conv2D(filters=filters, kernel_size=(3,3), strides=(1,1), padding=\"same\",kernel_initializer='he_normal')(shortcut)\n",
        "    x = BatchNormalization()(x)\n",
        "    x = Add()([shortcut,x])\n",
        "    x = Activation('relu')(x)\n",
        "    return x"
      ]
    },
    {
      "cell_type": "code",
      "execution_count": null,
      "metadata": {
        "id": "JFxbwY8mKswq"
      },
      "outputs": [],
      "source": [
        "# Poner semillas para demostrar mejora?\n",
        "\n",
        "# ResNet-34\n",
        "#Duda: No entiendo como se supone que se utiliza el stride = (2,2), pues hacer esto cambia las dimensiones del tensor.\n",
        "# ¿Como esperan luego que sume los dos tensores de dimension diferente? Para arreglarlo, lo único que se me ocurrió\n",
        "# (asumo está mal) es que, en caso de que haya stride=(2,2) ,la suma se realice entre el resultado de la primera convolusion que altera las dimensiones, \n",
        "# y lo que ocurra luego de hacer la segunda convolusión. \n",
        "\n",
        "# El input original para  ResNet-34 es de (224,224,3), mientras que el de Cifar-10 es de (32,32,3). ¿Qué hacemos para arreglarlo?"
      ]
    },
    {
      "cell_type": "code",
      "execution_count": null,
      "metadata": {
        "colab": {
          "base_uri": "https://localhost:8080/"
        },
        "id": "egjmzjEgKswv",
        "outputId": "11d2dc85-e333-4ea7-b712-cd7aca26d1d0"
      },
      "outputs": [
        {
          "output_type": "stream",
          "name": "stdout",
          "text": [
            "Model: \"model_4\"\n",
            "__________________________________________________________________________________________________\n",
            " Layer (type)                   Output Shape         Param #     Connected to                     \n",
            "==================================================================================================\n",
            " input_5 (InputLayer)           [(None, 32, 32, 3)]  0           []                               \n",
            "                                                                                                  \n",
            " conv2d_132 (Conv2D)            (None, 32, 32, 64)   1792        ['input_5[0][0]']                \n",
            "                                                                                                  \n",
            " activation_132 (Activation)    (None, 32, 32, 64)   0           ['conv2d_132[0][0]']             \n",
            "                                                                                                  \n",
            " conv2d_134 (Conv2D)            (None, 32, 32, 64)   36928       ['activation_132[0][0]']         \n",
            "                                                                                                  \n",
            " batch_normalization_129 (Batch  (None, 32, 32, 64)  256         ['conv2d_134[0][0]']             \n",
            " Normalization)                                                                                   \n",
            "                                                                                                  \n",
            " add_64 (Add)                   (None, 32, 32, 64)   0           ['activation_132[0][0]',         \n",
            "                                                                  'batch_normalization_129[0][0]']\n",
            "                                                                                                  \n",
            " activation_134 (Activation)    (None, 32, 32, 64)   0           ['add_64[0][0]']                 \n",
            "                                                                                                  \n",
            " conv2d_136 (Conv2D)            (None, 32, 32, 64)   36928       ['activation_134[0][0]']         \n",
            "                                                                                                  \n",
            " batch_normalization_131 (Batch  (None, 32, 32, 64)  256         ['conv2d_136[0][0]']             \n",
            " Normalization)                                                                                   \n",
            "                                                                                                  \n",
            " add_65 (Add)                   (None, 32, 32, 64)   0           ['activation_134[0][0]',         \n",
            "                                                                  'batch_normalization_131[0][0]']\n",
            "                                                                                                  \n",
            " activation_136 (Activation)    (None, 32, 32, 64)   0           ['add_65[0][0]']                 \n",
            "                                                                                                  \n",
            " conv2d_138 (Conv2D)            (None, 32, 32, 64)   36928       ['activation_136[0][0]']         \n",
            "                                                                                                  \n",
            " batch_normalization_133 (Batch  (None, 32, 32, 64)  256         ['conv2d_138[0][0]']             \n",
            " Normalization)                                                                                   \n",
            "                                                                                                  \n",
            " add_66 (Add)                   (None, 32, 32, 64)   0           ['activation_136[0][0]',         \n",
            "                                                                  'batch_normalization_133[0][0]']\n",
            "                                                                                                  \n",
            " activation_138 (Activation)    (None, 32, 32, 64)   0           ['add_66[0][0]']                 \n",
            "                                                                                                  \n",
            " conv2d_139 (Conv2D)            (None, 16, 16, 128)  73856       ['activation_138[0][0]']         \n",
            "                                                                                                  \n",
            " batch_normalization_134 (Batch  (None, 16, 16, 128)  512        ['conv2d_139[0][0]']             \n",
            " Normalization)                                                                                   \n",
            "                                                                                                  \n",
            " activation_139 (Activation)    (None, 16, 16, 128)  0           ['batch_normalization_134[0][0]']\n",
            "                                                                                                  \n",
            " conv2d_140 (Conv2D)            (None, 16, 16, 128)  147584      ['activation_139[0][0]']         \n",
            "                                                                                                  \n",
            " batch_normalization_135 (Batch  (None, 16, 16, 128)  512        ['conv2d_140[0][0]']             \n",
            " Normalization)                                                                                   \n",
            "                                                                                                  \n",
            " add_67 (Add)                   (None, 16, 16, 128)  0           ['activation_139[0][0]',         \n",
            "                                                                  'batch_normalization_135[0][0]']\n",
            "                                                                                                  \n",
            " activation_140 (Activation)    (None, 16, 16, 128)  0           ['add_67[0][0]']                 \n",
            "                                                                                                  \n",
            " conv2d_142 (Conv2D)            (None, 16, 16, 128)  147584      ['activation_140[0][0]']         \n",
            "                                                                                                  \n",
            " batch_normalization_137 (Batch  (None, 16, 16, 128)  512        ['conv2d_142[0][0]']             \n",
            " Normalization)                                                                                   \n",
            "                                                                                                  \n",
            " add_68 (Add)                   (None, 16, 16, 128)  0           ['activation_140[0][0]',         \n",
            "                                                                  'batch_normalization_137[0][0]']\n",
            "                                                                                                  \n",
            " activation_142 (Activation)    (None, 16, 16, 128)  0           ['add_68[0][0]']                 \n",
            "                                                                                                  \n",
            " conv2d_144 (Conv2D)            (None, 16, 16, 128)  147584      ['activation_142[0][0]']         \n",
            "                                                                                                  \n",
            " batch_normalization_139 (Batch  (None, 16, 16, 128)  512        ['conv2d_144[0][0]']             \n",
            " Normalization)                                                                                   \n",
            "                                                                                                  \n",
            " add_69 (Add)                   (None, 16, 16, 128)  0           ['activation_142[0][0]',         \n",
            "                                                                  'batch_normalization_139[0][0]']\n",
            "                                                                                                  \n",
            " activation_144 (Activation)    (None, 16, 16, 128)  0           ['add_69[0][0]']                 \n",
            "                                                                                                  \n",
            " conv2d_146 (Conv2D)            (None, 16, 16, 128)  147584      ['activation_144[0][0]']         \n",
            "                                                                                                  \n",
            " batch_normalization_141 (Batch  (None, 16, 16, 128)  512        ['conv2d_146[0][0]']             \n",
            " Normalization)                                                                                   \n",
            "                                                                                                  \n",
            " add_70 (Add)                   (None, 16, 16, 128)  0           ['activation_144[0][0]',         \n",
            "                                                                  'batch_normalization_141[0][0]']\n",
            "                                                                                                  \n",
            " activation_146 (Activation)    (None, 16, 16, 128)  0           ['add_70[0][0]']                 \n",
            "                                                                                                  \n",
            " conv2d_147 (Conv2D)            (None, 8, 8, 256)    295168      ['activation_146[0][0]']         \n",
            "                                                                                                  \n",
            " batch_normalization_142 (Batch  (None, 8, 8, 256)   1024        ['conv2d_147[0][0]']             \n",
            " Normalization)                                                                                   \n",
            "                                                                                                  \n",
            " activation_147 (Activation)    (None, 8, 8, 256)    0           ['batch_normalization_142[0][0]']\n",
            "                                                                                                  \n",
            " conv2d_148 (Conv2D)            (None, 8, 8, 256)    590080      ['activation_147[0][0]']         \n",
            "                                                                                                  \n",
            " batch_normalization_143 (Batch  (None, 8, 8, 256)   1024        ['conv2d_148[0][0]']             \n",
            " Normalization)                                                                                   \n",
            "                                                                                                  \n",
            " add_71 (Add)                   (None, 8, 8, 256)    0           ['activation_147[0][0]',         \n",
            "                                                                  'batch_normalization_143[0][0]']\n",
            "                                                                                                  \n",
            " activation_148 (Activation)    (None, 8, 8, 256)    0           ['add_71[0][0]']                 \n",
            "                                                                                                  \n",
            " conv2d_150 (Conv2D)            (None, 8, 8, 256)    590080      ['activation_148[0][0]']         \n",
            "                                                                                                  \n",
            " batch_normalization_145 (Batch  (None, 8, 8, 256)   1024        ['conv2d_150[0][0]']             \n",
            " Normalization)                                                                                   \n",
            "                                                                                                  \n",
            " add_72 (Add)                   (None, 8, 8, 256)    0           ['activation_148[0][0]',         \n",
            "                                                                  'batch_normalization_145[0][0]']\n",
            "                                                                                                  \n",
            " activation_150 (Activation)    (None, 8, 8, 256)    0           ['add_72[0][0]']                 \n",
            "                                                                                                  \n",
            " conv2d_152 (Conv2D)            (None, 8, 8, 256)    590080      ['activation_150[0][0]']         \n",
            "                                                                                                  \n",
            " batch_normalization_147 (Batch  (None, 8, 8, 256)   1024        ['conv2d_152[0][0]']             \n",
            " Normalization)                                                                                   \n",
            "                                                                                                  \n",
            " add_73 (Add)                   (None, 8, 8, 256)    0           ['activation_150[0][0]',         \n",
            "                                                                  'batch_normalization_147[0][0]']\n",
            "                                                                                                  \n",
            " activation_152 (Activation)    (None, 8, 8, 256)    0           ['add_73[0][0]']                 \n",
            "                                                                                                  \n",
            " conv2d_154 (Conv2D)            (None, 8, 8, 256)    590080      ['activation_152[0][0]']         \n",
            "                                                                                                  \n",
            " batch_normalization_149 (Batch  (None, 8, 8, 256)   1024        ['conv2d_154[0][0]']             \n",
            " Normalization)                                                                                   \n",
            "                                                                                                  \n",
            " add_74 (Add)                   (None, 8, 8, 256)    0           ['activation_152[0][0]',         \n",
            "                                                                  'batch_normalization_149[0][0]']\n",
            "                                                                                                  \n",
            " activation_154 (Activation)    (None, 8, 8, 256)    0           ['add_74[0][0]']                 \n",
            "                                                                                                  \n",
            " conv2d_156 (Conv2D)            (None, 8, 8, 256)    590080      ['activation_154[0][0]']         \n",
            "                                                                                                  \n",
            " batch_normalization_151 (Batch  (None, 8, 8, 256)   1024        ['conv2d_156[0][0]']             \n",
            " Normalization)                                                                                   \n",
            "                                                                                                  \n",
            " add_75 (Add)                   (None, 8, 8, 256)    0           ['activation_154[0][0]',         \n",
            "                                                                  'batch_normalization_151[0][0]']\n",
            "                                                                                                  \n",
            " activation_156 (Activation)    (None, 8, 8, 256)    0           ['add_75[0][0]']                 \n",
            "                                                                                                  \n",
            " conv2d_158 (Conv2D)            (None, 8, 8, 256)    590080      ['activation_156[0][0]']         \n",
            "                                                                                                  \n",
            " batch_normalization_153 (Batch  (None, 8, 8, 256)   1024        ['conv2d_158[0][0]']             \n",
            " Normalization)                                                                                   \n",
            "                                                                                                  \n",
            " add_76 (Add)                   (None, 8, 8, 256)    0           ['activation_156[0][0]',         \n",
            "                                                                  'batch_normalization_153[0][0]']\n",
            "                                                                                                  \n",
            " activation_158 (Activation)    (None, 8, 8, 256)    0           ['add_76[0][0]']                 \n",
            "                                                                                                  \n",
            " conv2d_159 (Conv2D)            (None, 4, 4, 512)    1180160     ['activation_158[0][0]']         \n",
            "                                                                                                  \n",
            " batch_normalization_154 (Batch  (None, 4, 4, 512)   2048        ['conv2d_159[0][0]']             \n",
            " Normalization)                                                                                   \n",
            "                                                                                                  \n",
            " activation_159 (Activation)    (None, 4, 4, 512)    0           ['batch_normalization_154[0][0]']\n",
            "                                                                                                  \n",
            " conv2d_160 (Conv2D)            (None, 4, 4, 512)    2359808     ['activation_159[0][0]']         \n",
            "                                                                                                  \n",
            " batch_normalization_155 (Batch  (None, 4, 4, 512)   2048        ['conv2d_160[0][0]']             \n",
            " Normalization)                                                                                   \n",
            "                                                                                                  \n",
            " add_77 (Add)                   (None, 4, 4, 512)    0           ['activation_159[0][0]',         \n",
            "                                                                  'batch_normalization_155[0][0]']\n",
            "                                                                                                  \n",
            " activation_160 (Activation)    (None, 4, 4, 512)    0           ['add_77[0][0]']                 \n",
            "                                                                                                  \n",
            " conv2d_162 (Conv2D)            (None, 4, 4, 512)    2359808     ['activation_160[0][0]']         \n",
            "                                                                                                  \n",
            " batch_normalization_157 (Batch  (None, 4, 4, 512)   2048        ['conv2d_162[0][0]']             \n",
            " Normalization)                                                                                   \n",
            "                                                                                                  \n",
            " add_78 (Add)                   (None, 4, 4, 512)    0           ['activation_160[0][0]',         \n",
            "                                                                  'batch_normalization_157[0][0]']\n",
            "                                                                                                  \n",
            " activation_162 (Activation)    (None, 4, 4, 512)    0           ['add_78[0][0]']                 \n",
            "                                                                                                  \n",
            " conv2d_164 (Conv2D)            (None, 4, 4, 512)    2359808     ['activation_162[0][0]']         \n",
            "                                                                                                  \n",
            " batch_normalization_159 (Batch  (None, 4, 4, 512)   2048        ['conv2d_164[0][0]']             \n",
            " Normalization)                                                                                   \n",
            "                                                                                                  \n",
            " add_79 (Add)                   (None, 4, 4, 512)    0           ['activation_162[0][0]',         \n",
            "                                                                  'batch_normalization_159[0][0]']\n",
            "                                                                                                  \n",
            " activation_164 (Activation)    (None, 4, 4, 512)    0           ['add_79[0][0]']                 \n",
            "                                                                                                  \n",
            " average_pooling2d_4 (AveragePo  (None, 2, 2, 512)   0           ['activation_164[0][0]']         \n",
            " oling2D)                                                                                         \n",
            "                                                                                                  \n",
            " flatten_3 (Flatten)            (None, 2048)         0           ['average_pooling2d_4[0][0]']    \n",
            "                                                                                                  \n",
            " dense_4 (Dense)                (None, 10)           20490       ['flatten_3[0][0]']              \n",
            "                                                                                                  \n",
            "==================================================================================================\n",
            "Total params: 12,911,178\n",
            "Trainable params: 12,901,834\n",
            "Non-trainable params: 9,344\n",
            "__________________________________________________________________________________________________\n"
          ]
        }
      ],
      "source": [
        "i = Input(shape=x_train[0].shape)\n",
        "x = Conv2D(filters=64, kernel_size=(3,3), strides=(1,1), padding='same',kernel_initializer='he_normal')(i) # Originalmente ks=(7,7), stride=(2,2), f=64\n",
        "\n",
        "x = Activation('relu')(x)\n",
        "x = identity_block(x, 64)\n",
        "x = identity_block(x, 64)\n",
        "x = identity_block(x, 64)\n",
        "\n",
        "x = conv_block(x, 128)\n",
        "x = identity_block(x, 128)\n",
        "x = identity_block(x, 128)\n",
        "x = identity_block(x, 128)\n",
        "\n",
        "\n",
        "x = conv_block(x, 256)\n",
        "x = identity_block(x, 256)\n",
        "x = identity_block(x, 256)\n",
        "x = identity_block(x, 256)\n",
        "x = identity_block(x, 256)\n",
        "x = identity_block(x, 256)\n",
        "\n",
        "x = conv_block(x, 512)\n",
        "x = identity_block(x, 512)\n",
        "x = identity_block(x, 512)\n",
        "\n",
        "x = AveragePooling2D((2,2))(x) # Alterar esta para encajar en nuestro input\n",
        "x = Flatten()(x)\n",
        "x = Dense(10, activation='softmax')(x) # Originalmente es 1000, pero para cifar10 dee ser 10\n",
        "\n",
        "model = Model(i, x)\n",
        " \n",
        "# model description\n",
        "model.summary()\n"
      ]
    },
    {
      "cell_type": "code",
      "execution_count": null,
      "metadata": {
        "id": "gf5JXYfmKswv"
      },
      "outputs": [],
      "source": [
        "# Compile\n",
        "model.compile(optimizer='adam', loss='sparse_categorical_crossentropy', metrics=['accuracy'])"
      ]
    },
    {
      "cell_type": "code",
      "execution_count": null,
      "metadata": {
        "colab": {
          "base_uri": "https://localhost:8080/"
        },
        "id": "wRIXcCZLKsww",
        "outputId": "2855d408-78fd-4d93-b054-4494ebeaec59"
      },
      "outputs": [
        {
          "output_type": "stream",
          "name": "stdout",
          "text": [
            "Epoch 1/10\n",
            "1563/1563 [==============================] - 67s 43ms/step - loss: 1.6867 - accuracy: 0.4341 - val_loss: 1.4612 - val_accuracy: 0.4935\n",
            "Epoch 2/10\n",
            "1563/1563 [==============================] - 68s 44ms/step - loss: 0.9486 - accuracy: 0.6691 - val_loss: 0.9089 - val_accuracy: 0.6843\n",
            "Epoch 3/10\n",
            "1563/1563 [==============================] - 69s 44ms/step - loss: 0.6962 - accuracy: 0.7597 - val_loss: 0.8804 - val_accuracy: 0.7199\n",
            "Epoch 4/10\n",
            "1563/1563 [==============================] - 69s 44ms/step - loss: 0.5391 - accuracy: 0.8147 - val_loss: 0.8103 - val_accuracy: 0.7727\n",
            "Epoch 5/10\n",
            "1563/1563 [==============================] - 68s 43ms/step - loss: 0.4143 - accuracy: 0.8568 - val_loss: 0.7764 - val_accuracy: 0.7511\n",
            "Epoch 6/10\n",
            "1563/1563 [==============================] - 69s 44ms/step - loss: 0.3006 - accuracy: 0.8947 - val_loss: 0.5533 - val_accuracy: 0.8216\n",
            "Epoch 7/10\n",
            "1563/1563 [==============================] - 72s 46ms/step - loss: 0.2082 - accuracy: 0.9274 - val_loss: 0.5633 - val_accuracy: 0.8219\n",
            "Epoch 8/10\n",
            "1563/1563 [==============================] - 69s 44ms/step - loss: 0.1359 - accuracy: 0.9521 - val_loss: 0.6366 - val_accuracy: 0.8252\n",
            "Epoch 9/10\n",
            "1563/1563 [==============================] - 67s 43ms/step - loss: 0.0998 - accuracy: 0.9654 - val_loss: 0.8234 - val_accuracy: 0.8000\n",
            "Epoch 10/10\n",
            "1563/1563 [==============================] - 69s 44ms/step - loss: 0.0802 - accuracy: 0.9720 - val_loss: 0.6942 - val_accuracy: 0.8408\n"
          ]
        }
      ],
      "source": [
        "# Fit\n",
        "r = model.fit(x_train, y_train, validation_data = (x_test, y_test), epochs = 10)"
      ]
    },
    {
      "cell_type": "code",
      "execution_count": null,
      "metadata": {
        "id": "SM0vh39mKsww"
      },
      "outputs": [],
      "source": [
        "plt.plot(r.history['accuracy'], label='acc', color='red')\n",
        "plt.plot(r.history['val_accuracy'], label='val_acc', color='green')\n",
        "plt.legend()"
      ]
    },
    {
      "cell_type": "code",
      "execution_count": null,
      "metadata": {
        "id": "RXIWv3BpKswx"
      },
      "outputs": [],
      "source": []
    }
  ],
  "metadata": {
    "kernelspec": {
      "display_name": "Python 3",
      "language": "python",
      "name": "python3"
    },
    "language_info": {
      "codemirror_mode": {
        "name": "ipython",
        "version": 3
      },
      "file_extension": ".py",
      "mimetype": "text/x-python",
      "name": "python",
      "nbconvert_exporter": "python",
      "pygments_lexer": "ipython3",
      "version": "3.9.6"
    },
    "orig_nbformat": 4,
    "colab": {
      "provenance": []
    },
    "gpuClass": "standard",
    "accelerator": "GPU"
  },
  "nbformat": 4,
  "nbformat_minor": 0
}