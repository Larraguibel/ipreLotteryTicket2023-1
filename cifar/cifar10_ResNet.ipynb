{
 "cells": [
  {
   "cell_type": "code",
   "execution_count": null,
   "metadata": {},
   "outputs": [],
   "source": [
    "# Poner semillas para demostrar mejora?\n",
    "\n",
    "# ResNet-34\n",
    "#Duda: No entiendo como se supone que se utiliza el stride = (2,2), pues hacer esto cambia las dimensiones del tensor.\n",
    "# ¿Como esperan luego que sume los dos tensores de dimension diferente? Para arreglarlo, lo único que se me ocurrió\n",
    "# (asumo está mal) es que, en caso de que haya stride=(2,2) ,la suma se realice entre el resultado de la primera convolusion que altera las dimensiones, \n",
    "# y lo que ocurra luego de hacer la segunda convolusión. \n",
    "\n",
    "# El input original para  ResNet-34 es de (224,224,3), mientras que el de Cifar-10 es de (32,32,3). Como alteramos los parámetros apra arreglarlo?"
   ]
  },
  {
   "cell_type": "code",
   "execution_count": 36,
   "metadata": {},
   "outputs": [
    {
     "name": "stdout",
     "output_type": "stream",
     "text": [
      "2.12.0\n"
     ]
    }
   ],
   "source": [
    "import tensorflow as tf\n",
    " \n",
    "# Display the version\n",
    "print(tf.__version__)    \n",
    "\n",
    "# other imports\n",
    "import numpy as np\n",
    "import matplotlib.pyplot as plt\n",
    "from tensorflow.keras.layers import Input, Conv2D, Dense, Flatten, Dropout, Add, ReLU\n",
    "from tensorflow.keras.layers import GlobalMaxPooling2D, MaxPooling2D, AveragePooling2D\n",
    "from tensorflow.keras.layers import BatchNormalization\n",
    "from tensorflow.keras.models import Model"
   ]
  },
  {
   "cell_type": "code",
   "execution_count": 2,
   "metadata": {},
   "outputs": [
    {
     "name": "stdout",
     "output_type": "stream",
     "text": [
      "(50000, 32, 32, 3) (50000, 1) (10000, 32, 32, 3) (10000, 1)\n"
     ]
    }
   ],
   "source": [
    "# Load in the data\n",
    "cifar10 = tf.keras.datasets.cifar10\n",
    " \n",
    "# Distribute it to train and test set\n",
    "(x_train, y_train), (x_test, y_test) = cifar10.load_data()\n",
    "print(x_train.shape, y_train.shape, x_test.shape, y_test.shape)"
   ]
  },
  {
   "cell_type": "code",
   "execution_count": 3,
   "metadata": {},
   "outputs": [],
   "source": [
    "# Reduce pixel values\n",
    "x_train, x_test = x_train / 255.0, x_test / 255.0\n",
    " \n",
    "# flatten the label values\n",
    "y_train, y_test = y_train.flatten(), y_test.flatten()"
   ]
  },
  {
   "cell_type": "code",
   "execution_count": 52,
   "metadata": {},
   "outputs": [
    {
     "name": "stdout",
     "output_type": "stream",
     "text": [
      "[[0.23137255 0.24313725 0.24705882]\n",
      " [0.16862745 0.18039216 0.17647059]\n",
      " [0.19607843 0.18823529 0.16862745]\n",
      " [0.26666667 0.21176471 0.16470588]\n",
      " [0.38431373 0.28627451 0.20392157]\n",
      " [0.46666667 0.35686275 0.24705882]\n",
      " [0.54509804 0.41960784 0.29411765]\n",
      " [0.56862745 0.43137255 0.31372549]\n",
      " [0.58431373 0.45882353 0.34901961]\n",
      " [0.58431373 0.47058824 0.36470588]\n",
      " [0.51372549 0.40392157 0.30196078]\n",
      " [0.49019608 0.38823529 0.29803922]\n",
      " [0.55686275 0.45098039 0.35686275]\n",
      " [0.56470588 0.43921569 0.3372549 ]\n",
      " [0.5372549  0.41176471 0.30980392]\n",
      " [0.50588235 0.38039216 0.27843137]\n",
      " [0.5372549  0.41568627 0.30980392]\n",
      " [0.5254902  0.41568627 0.29803922]\n",
      " [0.48627451 0.38039216 0.25098039]\n",
      " [0.54509804 0.44313725 0.30588235]\n",
      " [0.54509804 0.43921569 0.29411765]\n",
      " [0.52156863 0.41176471 0.27058824]\n",
      " [0.53333333 0.41176471 0.29019608]\n",
      " [0.54509804 0.42352941 0.30196078]\n",
      " [0.59607843 0.47058824 0.34901961]\n",
      " [0.63921569 0.51372549 0.39215686]\n",
      " [0.65882353 0.53333333 0.42352941]\n",
      " [0.62352941 0.50588235 0.4       ]\n",
      " [0.61960784 0.50980392 0.40784314]\n",
      " [0.61960784 0.51764706 0.42352941]\n",
      " [0.59607843 0.49019608 0.4       ]\n",
      " [0.58039216 0.48627451 0.40392157]]\n"
     ]
    }
   ],
   "source": [
    "print(x_train[0][0])"
   ]
  },
  {
   "cell_type": "code",
   "execution_count": null,
   "metadata": {},
   "outputs": [],
   "source": [
    "'''\n",
    "Opción 1:\n",
    "tf.keras.applications.ResNet50(\n",
    "    include_top=True,\n",
    "    weights=\"imagenet\",\n",
    "    input_tensor=None,\n",
    "    input_shape=None,\n",
    "    pooling=avg,\n",
    "    classes=10,\n",
    "    classifier_activation='softmax'\n",
    ")\n",
    "\n",
    "https://keras.io/api/applications/resnet/\n",
    "'''"
   ]
  },
  {
   "cell_type": "code",
   "execution_count": 60,
   "metadata": {},
   "outputs": [],
   "source": [
    "classes = len(set(y_train))\n",
    "\n",
    "def resblock(x, filters:int, s1:int, s2:int):\n",
    "\n",
    "    if s1 == 2:\n",
    "        conv1 = Conv2D(filters=filters, kernel_size=(3,3), strides=(s1,s1), padding=\"same\", activation='relu')(x)\n",
    "        x = conv1\n",
    "\n",
    "    else:\n",
    "        conv1 = Conv2D(filters=filters, kernel_size=(3,3), strides=(s1,s1), padding=\"same\", activation='relu')(x)\n",
    "    \n",
    "    b = BatchNormalization()(conv1)\n",
    "    conv2 = Conv2D(filters=filters, kernel_size=(3,3), strides=(s2,s2), padding=\"same\", activation='relu')(b)\n",
    "    add = Add()([x,conv2])\n",
    "    r2 = ReLU()(add)\n",
    "    b2 = BatchNormalization()(r2)\n",
    "\n",
    "    return b2"
   ]
  },
  {
   "cell_type": "code",
   "execution_count": 61,
   "metadata": {},
   "outputs": [],
   "source": [
    "i = Input(shape=x_train[0].shape)\n",
    "x = Conv2D(filters=64, kernel_size=(7,7), strides=(2,2), padding='same', activation='relu')(i)\n",
    "x = MaxPooling2D((3,3), strides=(2,2))(x)\n",
    "\n",
    "x = resblock(x, 64, 1, 1)\n",
    "x = resblock(x, 64, 1, 1)\n",
    "x = resblock(x, 64, 1, 1)\n",
    "\n",
    "x = Conv2D(filters=64, kernel_size=(7,7), strides=(2,2), padding='same', activation='relu')(x)\n",
    "\n",
    "x = resblock(x, 64, 2, 1)\n",
    "x = resblock(x, 64, 1, 1)\n",
    "x = resblock(x, 64, 1, 1)\n",
    "x = resblock(x, 64, 1, 1)\n",
    "\n",
    "x = resblock(x, 128, 2, 1)\n",
    "x = resblock(x, 128, 1, 1)\n",
    "x = resblock(x, 128, 1, 1)\n",
    "x = resblock(x, 128, 1, 1)\n",
    "x = resblock(x, 128, 1, 1)\n",
    "x = resblock(x, 128, 1, 1)\n",
    "\n",
    "x = resblock(x, 256, 2, 1)\n",
    "x = resblock(x, 256, 1, 1)\n",
    "x = resblock(x, 256, 1, 1)\n",
    "\n",
    "x = AveragePooling2D((7,7))\n",
    "x = Dense(classes, activation='softmax') # Originalmente es 1000, pero para cifar10 dee ser 10. Añadimos igualmente una capa con 1000 neuronas?\n"
   ]
  },
  {
   "cell_type": "code",
   "execution_count": null,
   "metadata": {},
   "outputs": [],
   "source": [
    "# https://github.com/ke511081177/Resnet34_keras/blob/main/resnet34.py \n",
    "# Resnet34 de alguien más, que no termino de comprender.\n",
    "\n",
    "# https://stackoverflow.com/questions/64792460/how-to-code-a-residual-block-using-two-layers-of-a-basic-cnn-algorithm-built-wit\n",
    "# Bloque residual"
   ]
  },
  {
   "cell_type": "code",
   "execution_count": 63,
   "metadata": {},
   "outputs": [
    {
     "name": "stdout",
     "output_type": "stream",
     "text": [
      "(32, 32, 3)\n"
     ]
    }
   ],
   "source": [
    "print(x_train[0].shape)"
   ]
  },
  {
   "cell_type": "code",
   "execution_count": null,
   "metadata": {},
   "outputs": [],
   "source": []
  }
 ],
 "metadata": {
  "kernelspec": {
   "display_name": "Python 3",
   "language": "python",
   "name": "python3"
  },
  "language_info": {
   "codemirror_mode": {
    "name": "ipython",
    "version": 3
   },
   "file_extension": ".py",
   "mimetype": "text/x-python",
   "name": "python",
   "nbconvert_exporter": "python",
   "pygments_lexer": "ipython3",
   "version": "3.9.6"
  },
  "orig_nbformat": 4
 },
 "nbformat": 4,
 "nbformat_minor": 2
}
